{
 "cells": [
  {
   "cell_type": "code",
   "execution_count": null,
   "id": "c7b0f29d-9e7d-43b6-a1bd-e3fb6897fa0b",
   "metadata": {},
   "outputs": [],
   "source": [
    "# Install necessary libraries\n",
    "# !pip install nltk matplotlib\n",
    "\n",
    "import nltk\n",
    "import re\n",
    "import string\n",
    "import matplotlib.pyplot as plt\n",
    "from nltk.corpus import stopwords\n",
    "from nltk import ngrams, FreqDist\n",
    "from nltk.stem import WordNetLemmatizer\n",
    "\n",
    "# Download required NLTK data\n",
    "nltk.download('punkt')\n",
    "nltk.download('stopwords')\n",
    "nltk.download('wordnet')\n",
    "nltk.download('punkt_tab')\n",
    "\n",
    "# Step 1: Data Preprocessing\n",
    "text = \"\"\"I love natural language processing. It is one of the most exciting fields in Artificial Intelligence. \n",
    "Natural Language Processing involves teaching machines how to understand and generate human language.\"\"\"\n",
    "\n",
    "# Convert text to lowercase\n",
    "text = text.lower()\n",
    "\n",
    "# Remove punctuation and special characters\n",
    "text = re.sub(f'[{re.escape(string.punctuation)}]', '', text)\n",
    "\n",
    "# Tokenization\n",
    "tokens = nltk.word_tokenize(text)\n",
    "\n",
    "# Remove stopwords\n",
    "stop_words = set(stopwords.words('english'))\n",
    "tokens = [word for word in tokens if word not in stop_words]\n",
    "\n",
    "# Lemmatization\n",
    "lemmatizer = WordNetLemmatizer()\n",
    "tokens = [lemmatizer.lemmatize(word) for word in tokens]\n",
    "\n",
    "print(f\"Preprocessed Tokens:\\n{tokens}\")\n",
    "\n",
    "# Step 2: Generating N-Grams\n",
    "def generate_ngrams(tokens, n):\n",
    "    n_grams = list(ngrams(tokens, n))\n",
    "    return n_grams\n",
    "\n",
    "unigrams = generate_ngrams(tokens, 1)\n",
    "bigrams = generate_ngrams(tokens, 2)\n",
    "trigrams = generate_ngrams(tokens, 3)\n",
    "\n",
    "# Step 3: Frequency Distribution of N-Grams\n",
    "def plot_ngram_freq(ngrams_list, title):\n",
    "    freq_dist = FreqDist(ngrams_list)\n",
    "    common_ngrams = freq_dist.most_common(10)\n",
    "    \n",
    "    ngrams_text = [' '.join(gram) for gram, freq in common_ngrams]\n",
    "    freqs = [freq for gram, freq in common_ngrams]\n",
    "    \n",
    "    plt.figure(figsize=(10,5))\n",
    "    plt.bar(ngrams_text, freqs, color='skyblue')\n",
    "    plt.title(title)\n",
    "    plt.xticks(rotation=45)\n",
    "    plt.xlabel('N-Grams')\n",
    "    plt.ylabel('Frequency')\n",
    "    plt.show()\n",
    "\n",
    "# Plotting\n",
    "plot_ngram_freq(unigrams, \"Top 10 Unigrams\")\n",
    "plot_ngram_freq(bigrams, \"Top 10 Bigrams\")\n",
    "plot_ngram_freq(trigrams, \"Top 10 Trigrams\")\n"
   ]
  },
  {
   "cell_type": "code",
   "execution_count": 1,
   "id": "e7526770-6446-4305-8ac6-9062d46ad472",
   "metadata": {},
   "outputs": [
    {
     "name": "stderr",
     "output_type": "stream",
     "text": [
      "[nltk_data] Downloading package punkt to C:\\Users\\Shaikh\n",
      "[nltk_data]     Irfan\\AppData\\Roaming\\nltk_data...\n",
      "[nltk_data]   Package punkt is already up-to-date!\n",
      "[nltk_data] Downloading package stopwords to C:\\Users\\Shaikh\n",
      "[nltk_data]     Irfan\\AppData\\Roaming\\nltk_data...\n",
      "[nltk_data]   Package stopwords is already up-to-date!\n",
      "[nltk_data] Downloading package wordnet to C:\\Users\\Shaikh\n",
      "[nltk_data]     Irfan\\AppData\\Roaming\\nltk_data...\n",
      "[nltk_data]   Package wordnet is already up-to-date!\n"
     ]
    },
    {
     "data": {
      "text/plain": [
       "True"
      ]
     },
     "execution_count": 1,
     "metadata": {},
     "output_type": "execute_result"
    }
   ],
   "source": [
    "import nltk \n",
    "nltk.download('punkt')\n",
    "nltk.download('stopwords')\n",
    "nltk.download('wordnet')"
   ]
  },
  {
   "cell_type": "code",
   "execution_count": 2,
   "id": "c63e617f-4f93-4340-bf30-6f831b60f411",
   "metadata": {},
   "outputs": [],
   "source": [
    "text = \"\"\"I love natural language processing. It is one of the most exciting fields in Artificial Intelligence. \n",
    "Natural Language Processing involves teaching machines how to understand and generate human language.\"\"\""
   ]
  },
  {
   "cell_type": "code",
   "execution_count": 3,
   "id": "6ae3939a-13c2-496c-8332-72cfc2678312",
   "metadata": {},
   "outputs": [],
   "source": [
    "text = text.lower()"
   ]
  },
  {
   "cell_type": "code",
   "execution_count": 33,
   "id": "e2736941-d1fe-4c70-ab54-bb9edc2f06af",
   "metadata": {},
   "outputs": [],
   "source": [
    "import re\n",
    "import string\n",
    "# from nltk.corpus import stopwords\n",
    "from nltk.corpus import stopwords\n",
    "from nltk.stem import WordNetLemmatizer"
   ]
  },
  {
   "cell_type": "code",
   "execution_count": 13,
   "id": "3bfd2476-a5a2-41d1-a504-0d6e9e914fd9",
   "metadata": {},
   "outputs": [
    {
     "data": {
      "text/plain": [
       "'i love natural language processing it is one of the most exciting fields in artificial intelligence \\nnatural language processing involves teaching machines how to understand and generate human language'"
      ]
     },
     "execution_count": 13,
     "metadata": {},
     "output_type": "execute_result"
    }
   ],
   "source": [
    "text = re.sub(f'[{re.escape(string.punctuation)}]', '',text)\n",
    "text"
   ]
  },
  {
   "cell_type": "code",
   "execution_count": null,
   "id": "942647b8-2b10-4f55-9dd5-d669ba2ecff5",
   "metadata": {},
   "outputs": [],
   "source": [
    "tokens = nltk.word_tokenize(text)\n",
    "tokens"
   ]
  },
  {
   "cell_type": "code",
   "execution_count": 30,
   "id": "3a22bf8d-f4a9-435d-9e6c-a99b328c1e70",
   "metadata": {},
   "outputs": [],
   "source": [
    "# stopwords =  set(stopwords.words('english'))\n",
    "stop_words = set(stopwords.words('english'))"
   ]
  },
  {
   "cell_type": "code",
   "execution_count": 32,
   "id": "7c1f8991-5659-4ef6-a11c-aec2d9a62588",
   "metadata": {},
   "outputs": [
    {
     "data": {
      "text/plain": [
       "['love',\n",
       " 'natural',\n",
       " 'language',\n",
       " 'processing',\n",
       " 'one',\n",
       " 'exciting',\n",
       " 'fields',\n",
       " 'artificial',\n",
       " 'intelligence',\n",
       " 'natural',\n",
       " 'language',\n",
       " 'processing',\n",
       " 'involves',\n",
       " 'teaching',\n",
       " 'machines',\n",
       " 'understand',\n",
       " 'generate',\n",
       " 'human',\n",
       " 'language']"
      ]
     },
     "execution_count": 32,
     "metadata": {},
     "output_type": "execute_result"
    }
   ],
   "source": [
    "text = [word for word in tokens if word not in stop_words]\n",
    "text"
   ]
  },
  {
   "cell_type": "code",
   "execution_count": 34,
   "id": "c18ceb1c-dac3-4398-85f9-f61e307295ab",
   "metadata": {},
   "outputs": [],
   "source": [
    "lemmatizer = WordNetLemmatizer()\n",
    "text = [for word in l]"
   ]
  },
  {
   "cell_type": "code",
   "execution_count": null,
   "id": "faee56ad-3910-49a7-b597-260e7f796636",
   "metadata": {},
   "outputs": [],
   "source": []
  }
 ],
 "metadata": {
  "kernelspec": {
   "display_name": "Python 3 (ipykernel)",
   "language": "python",
   "name": "python3"
  },
  "language_info": {
   "codemirror_mode": {
    "name": "ipython",
    "version": 3
   },
   "file_extension": ".py",
   "mimetype": "text/x-python",
   "name": "python",
   "nbconvert_exporter": "python",
   "pygments_lexer": "ipython3",
   "version": "3.11.7"
  }
 },
 "nbformat": 4,
 "nbformat_minor": 5
}
