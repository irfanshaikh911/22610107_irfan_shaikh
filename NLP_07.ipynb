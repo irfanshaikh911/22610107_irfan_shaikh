{
 "cells": [
  {
   "cell_type": "code",
   "execution_count": 1,
   "id": "3d60ef88-fdb0-418d-8be2-5b080fe4d885",
   "metadata": {},
   "outputs": [
    {
     "name": "stdout",
     "output_type": "stream",
     "text": [
      "Named Entities and their Categories:\n",
      "\n",
      "March 20, 2024 --> DATE\n",
      "Tesla Inc. --> ORG\n",
      "NASA --> ORG\n",
      "Elon Musk --> PERSON\n",
      "New York --> GPE\n",
      "2026 --> DATE\n",
      "$5 billion --> MONEY\n",
      "90% --> PERCENT\n",
      "\n",
      "Structured Named Entities:\n",
      "\n",
      "DATE: {'March 20, 2024', '2026'}\n",
      "ORG: {'Tesla Inc.', 'NASA'}\n",
      "PERSON: {'Elon Musk'}\n",
      "GPE: {'New York'}\n",
      "MONEY: {'$5 billion'}\n",
      "PERCENT: {'90%'}\n"
     ]
    },
    {
     "data": {
      "text/html": [
       "<span class=\"tex2jax_ignore\"><div class=\"entities\" style=\"line-height: 2.5; direction: ltr\"><br>On \n",
       "<mark class=\"entity\" style=\"background: #bfe1d9; padding: 0.45em 0.6em; margin: 0 0.25em; line-height: 1; border-radius: 0.35em;\">\n",
       "    March 20, 2024\n",
       "    <span style=\"font-size: 0.8em; font-weight: bold; line-height: 1; border-radius: 0.35em; vertical-align: middle; margin-left: 0.5rem\">DATE</span>\n",
       "</mark>\n",
       ", \n",
       "<mark class=\"entity\" style=\"background: #7aecec; padding: 0.45em 0.6em; margin: 0 0.25em; line-height: 1; border-radius: 0.35em;\">\n",
       "    Tesla Inc.\n",
       "    <span style=\"font-size: 0.8em; font-weight: bold; line-height: 1; border-radius: 0.35em; vertical-align: middle; margin-left: 0.5rem\">ORG</span>\n",
       "</mark>\n",
       " announced its partnership with \n",
       "<mark class=\"entity\" style=\"background: #7aecec; padding: 0.45em 0.6em; margin: 0 0.25em; line-height: 1; border-radius: 0.35em;\">\n",
       "    NASA\n",
       "    <span style=\"font-size: 0.8em; font-weight: bold; line-height: 1; border-radius: 0.35em; vertical-align: middle; margin-left: 0.5rem\">ORG</span>\n",
       "</mark>\n",
       " to develop sustainable energy solutions for upcoming space missions.<br>\n",
       "<mark class=\"entity\" style=\"background: #aa9cfc; padding: 0.45em 0.6em; margin: 0 0.25em; line-height: 1; border-radius: 0.35em;\">\n",
       "    Elon Musk\n",
       "    <span style=\"font-size: 0.8em; font-weight: bold; line-height: 1; border-radius: 0.35em; vertical-align: middle; margin-left: 0.5rem\">PERSON</span>\n",
       "</mark>\n",
       " stated that the joint mission would be based out of \n",
       "<mark class=\"entity\" style=\"background: #feca74; padding: 0.45em 0.6em; margin: 0 0.25em; line-height: 1; border-radius: 0.35em;\">\n",
       "    New York\n",
       "    <span style=\"font-size: 0.8em; font-weight: bold; line-height: 1; border-radius: 0.35em; vertical-align: middle; margin-left: 0.5rem\">GPE</span>\n",
       "</mark>\n",
       ", aiming to launch in \n",
       "<mark class=\"entity\" style=\"background: #bfe1d9; padding: 0.45em 0.6em; margin: 0 0.25em; line-height: 1; border-radius: 0.35em;\">\n",
       "    2026\n",
       "    <span style=\"font-size: 0.8em; font-weight: bold; line-height: 1; border-radius: 0.35em; vertical-align: middle; margin-left: 0.5rem\">DATE</span>\n",
       "</mark>\n",
       " with a budget of \n",
       "<mark class=\"entity\" style=\"background: #e4e7d2; padding: 0.45em 0.6em; margin: 0 0.25em; line-height: 1; border-radius: 0.35em;\">\n",
       "    $5 billion\n",
       "    <span style=\"font-size: 0.8em; font-weight: bold; line-height: 1; border-radius: 0.35em; vertical-align: middle; margin-left: 0.5rem\">MONEY</span>\n",
       "</mark>\n",
       ".<br>In addition, \n",
       "<mark class=\"entity\" style=\"background: #e4e7d2; padding: 0.45em 0.6em; margin: 0 0.25em; line-height: 1; border-radius: 0.35em;\">\n",
       "    90%\n",
       "    <span style=\"font-size: 0.8em; font-weight: bold; line-height: 1; border-radius: 0.35em; vertical-align: middle; margin-left: 0.5rem\">PERCENT</span>\n",
       "</mark>\n",
       " of the energy would come from renewable sources.<br></div></span>"
      ],
      "text/plain": [
       "<IPython.core.display.HTML object>"
      ]
     },
     "metadata": {},
     "output_type": "display_data"
    }
   ],
   "source": [
    "# Install spaCy if not already installed\n",
    "# !pip install spacy\n",
    "\n",
    "# Load Libraries\n",
    "import spacy\n",
    "from spacy import displacy\n",
    "# spacy.download('en_core_web_sm')\n",
    "# Load Pre-trained Model\n",
    "nlp = spacy.load(\"en_core_web_sm\")  # Use 'en_core_web_trf' for better accuracy\n",
    "\n",
    "# Input Text\n",
    "text = \"\"\"\n",
    "On March 20, 2024, Tesla Inc. announced its partnership with NASA to develop sustainable energy solutions for upcoming space missions.\n",
    "Elon Musk stated that the joint mission would be based out of New York, aiming to launch in 2026 with a budget of $5 billion.\n",
    "In addition, 90% of the energy would come from renewable sources.\n",
    "\"\"\"\n",
    "\n",
    "# Process Text\n",
    "doc = nlp(text)\n",
    "\n",
    "# Display Named Entities\n",
    "print(\"Named Entities and their Categories:\\n\")\n",
    "for ent in doc.ents:\n",
    "    print(f\"{ent.text} --> {ent.label_}\")\n",
    "\n",
    "# Structured Output\n",
    "entity_dict = {}\n",
    "for ent in doc.ents:\n",
    "    if ent.label_ not in entity_dict:\n",
    "        entity_dict[ent.label_] = []\n",
    "    entity_dict[ent.label_].append(ent.text)\n",
    "\n",
    "print(\"\\nStructured Named Entities:\\n\")\n",
    "for entity_type, entities in entity_dict.items():\n",
    "    print(f\"{entity_type}: {set(entities)}\")\n",
    "\n",
    "# Optional Visualization (uncomment below to see highlighted entities)\n",
    "displacy.render(doc, style=\"ent\", jupyter=True)\n"
   ]
  }
 ],
 "metadata": {
  "kernelspec": {
   "display_name": "Python 3 (ipykernel)",
   "language": "python",
   "name": "python3"
  },
  "language_info": {
   "codemirror_mode": {
    "name": "ipython",
    "version": 3
   },
   "file_extension": ".py",
   "mimetype": "text/x-python",
   "name": "python",
   "nbconvert_exporter": "python",
   "pygments_lexer": "ipython3",
   "version": "3.11.7"
  }
 },
 "nbformat": 4,
 "nbformat_minor": 5
}
