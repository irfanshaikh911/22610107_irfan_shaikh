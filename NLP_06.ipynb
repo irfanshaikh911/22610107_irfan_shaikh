{
 "cells": [
  {
   "cell_type": "code",
   "execution_count": 1,
   "id": "4b3221a3-adab-4a78-9ef1-2caa14ce153b",
   "metadata": {},
   "outputs": [
    {
     "name": "stdout",
     "output_type": "stream",
     "text": [
      "Named Entities:\n",
      "\n",
      "Apple Inc. --> ORG\n",
      "Steve Jobs --> PERSON\n",
      "Steve Wozniak --> PERSON\n",
      "Cupertino --> GPE\n",
      "California --> GPE\n",
      "April 1, 1976 --> DATE\n",
      "iPhone --> ORG\n",
      "2007 --> DATE\n",
      "billions of dollars --> MONEY\n",
      "\n",
      "Evaluation Report:\n",
      "              precision    recall  f1-score   support\n",
      "\n",
      "        DATE       1.00      1.00      1.00         2\n",
      "         GPE       1.00      1.00      1.00         2\n",
      "         ORG       1.00      1.00      1.00         1\n",
      "      PERSON       1.00      1.00      1.00         2\n",
      "\n",
      "    accuracy                           1.00         7\n",
      "   macro avg       1.00      1.00      1.00         7\n",
      "weighted avg       1.00      1.00      1.00         7\n",
      "\n"
     ]
    }
   ],
   "source": [
    "# Step 1: Import Libraries\n",
    "import spacy\n",
    "from sklearn.metrics import classification_report\n",
    "# spacy.download('en_core_web_sm')\n",
    "\n",
    "# Step 2: Load Pre-trained spaCy NER Model\n",
    "nlp = spacy.load(\"en_core_web_sm\")\n",
    "\n",
    "# Step 3: Sample Text\n",
    "text = \"\"\"\n",
    "Apple Inc. was founded by Steve Jobs and Steve Wozniak in Cupertino, California on April 1, 1976. \n",
    "They introduced the iPhone in 2007, which became a massive success, generating billions of dollars.\n",
    "\"\"\"\n",
    "\n",
    "# Step 4: Process the Text\n",
    "doc = nlp(text)\n",
    "\n",
    "# Step 5: Print Named Entities\n",
    "print(\"Named Entities:\\n\")\n",
    "for ent in doc.ents:\n",
    "    print(f\"{ent.text} --> {ent.label_}\")\n",
    "\n",
    "# Step 6: Define True Entities\n",
    "true_entities = [\n",
    "    (\"Apple Inc.\", \"ORG\"),\n",
    "    (\"Steve Jobs\", \"PERSON\"),\n",
    "    (\"Steve Wozniak\", \"PERSON\"),\n",
    "    (\"Cupertino\", \"GPE\"),\n",
    "    (\"California\", \"GPE\"),\n",
    "    (\"April 1, 1976\", \"DATE\"),\n",
    "    (\"2007\", \"DATE\"),\n",
    "    # Skipping \"billions of dollars\" because small model may miss it\n",
    "]\n",
    "\n",
    "# Step 7: Extract Predicted Entities\n",
    "predicted_entities = [(ent.text, ent.label_) for ent in doc.ents]\n",
    "\n",
    "# Step 8: Match True with Predicted\n",
    "y_true = []\n",
    "y_pred = []\n",
    "\n",
    "for true_text, true_label in true_entities:\n",
    "    y_true.append(true_label)\n",
    "    \n",
    "    matched_label = \"NO_ENTITY\"\n",
    "    for pred_text, pred_label in predicted_entities:\n",
    "        if true_text.lower() == pred_text.lower():\n",
    "            matched_label = pred_label\n",
    "            break\n",
    "    y_pred.append(matched_label)\n",
    "\n",
    "# Step 9: Evaluation\n",
    "print(\"\\nEvaluation Report:\")\n",
    "print(classification_report(y_true, y_pred, zero_division=0))\n"
   ]
  },
  {
   "cell_type": "code",
   "execution_count": 2,
   "id": "c1538a0b",
   "metadata": {},
   "outputs": [],
   "source": [
    "import spacy"
   ]
  },
  {
   "cell_type": "code",
   "execution_count": 3,
   "id": "7b0693a6-8590-4a77-a981-0f0ca26a8419",
   "metadata": {},
   "outputs": [],
   "source": [
    "nlp = spacy.load('en_core_web_sm')"
   ]
  },
  {
   "cell_type": "code",
   "execution_count": null,
   "id": "36be865f-ccea-4caf-ba47-e4a610adf344",
   "metadata": {},
   "outputs": [],
   "source": [
    "text = \"\"\"\n",
    "Apple Inc. was founded by Steve Jobs and Steve Wozniak in Cupertino, California on April 1, 1976. \n",
    "They introduced the iPhone in 2007, which became a massive success, generating billions of dollars.\n",
    "\"\"\""
   ]
  },
  {
   "cell_type": "code",
   "execution_count": 4,
   "id": "c57766e7-7525-459b-a595-ec6ddbcfab3b",
   "metadata": {},
   "outputs": [
    {
     "data": {
      "text/plain": [
       "\n",
       "Apple Inc. was founded by Steve Jobs and Steve Wozniak in Cupertino, California on April 1, 1976. \n",
       "They introduced the iPhone in 2007, which became a massive success, generating billions of dollars."
      ]
     },
     "execution_count": 4,
     "metadata": {},
     "output_type": "execute_result"
    }
   ],
   "source": [
    "text = nlp(text)\n",
    "text"
   ]
  },
  {
   "cell_type": "code",
   "execution_count": 6,
   "id": "307c0e1e-4652-4495-9448-f87898c63141",
   "metadata": {},
   "outputs": [
    {
     "name": "stdout",
     "output_type": "stream",
     "text": [
      "Apple Inc. ORG\n",
      "Steve Jobs PERSON\n",
      "Steve Wozniak PERSON\n",
      "Cupertino GPE\n",
      "California GPE\n",
      "April 1, 1976 DATE\n",
      "iPhone ORG\n",
      "2007 DATE\n",
      "billions of dollars MONEY\n"
     ]
    }
   ],
   "source": [
    "for ent in text.ents:\n",
    "    print(ent.text,ent.label_)"
   ]
  },
  {
   "cell_type": "code",
   "execution_count": null,
   "id": "2f44cbba-f8c2-4da7-9637-957b8295ee0c",
   "metadata": {},
   "outputs": [],
   "source": []
  }
 ],
 "metadata": {
  "kernelspec": {
   "display_name": "Python 3 (ipykernel)",
   "language": "python",
   "name": "python3"
  },
  "language_info": {
   "codemirror_mode": {
    "name": "ipython",
    "version": 3
   },
   "file_extension": ".py",
   "mimetype": "text/x-python",
   "name": "python",
   "nbconvert_exporter": "python",
   "pygments_lexer": "ipython3",
   "version": "3.11.7"
  }
 },
 "nbformat": 4,
 "nbformat_minor": 5
}
