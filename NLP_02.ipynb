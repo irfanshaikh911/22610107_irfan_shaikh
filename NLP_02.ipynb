{
 "cells": [
  {
   "cell_type": "code",
   "execution_count": 1,
   "id": "d6c4e714-c6a7-4423-a390-12c0ff70df87",
   "metadata": {},
   "outputs": [
    {
     "name": "stdout",
     "output_type": "stream",
     "text": [
      "Initial Morphology Table:\n",
      "Word       Form            Tense\n",
      "play       playing         present continuous\n",
      "run        running         present continuous\n",
      "drive      driven          past participle\n",
      "\n",
      "Added: eat, eating, present continuous\n",
      "\n",
      "Deleted word: run\n",
      "\n",
      "Final Morphology Table:\n",
      "Word       Form            Tense\n",
      "play       playing         present continuous\n",
      "drive      driven          past participle\n",
      "eat        eating          present continuous\n"
     ]
    }
   ],
   "source": [
    "# Morphology using Add and Delete Operations\n",
    "\n",
    "# Table represented as a list of dictionaries\n",
    "morphology_table = [\n",
    "    {'Word': 'play', 'Form': 'playing', 'Tense': 'present continuous'},\n",
    "    {'Word': 'run', 'Form': 'running', 'Tense': 'present continuous'},\n",
    "    {'Word': 'drive', 'Form': 'driven', 'Tense': 'past participle'}\n",
    "]\n",
    "\n",
    "# Function to display the table\n",
    "def display_table(table):\n",
    "    print(f\"{'Word':<10} {'Form':<15} {'Tense'}\")\n",
    "    for entry in table:\n",
    "        print(f\"{entry['Word']:<10} {entry['Form']:<15} {entry['Tense']}\")\n",
    "\n",
    "# Function to add a new word entry\n",
    "def add_word(word, form, tense):\n",
    "    morphology_table.append({'Word': word, 'Form': form, 'Tense': tense})\n",
    "    print(f\"\\nAdded: {word}, {form}, {tense}\")\n",
    "\n",
    "# Function to delete a word entry\n",
    "def delete_word(word):\n",
    "    global morphology_table\n",
    "    morphology_table = [entry for entry in morphology_table if entry['Word'] != word]\n",
    "    print(f\"\\nDeleted word: {word}\")\n",
    "\n",
    "# Initial table\n",
    "print(\"Initial Morphology Table:\")\n",
    "display_table(morphology_table)\n",
    "\n",
    "# Add Operation\n",
    "add_word('eat', 'eating', 'present continuous')\n",
    "\n",
    "# Delete Operation\n",
    "delete_word('run')\n",
    "\n",
    "# Final table\n",
    "print(\"\\nFinal Morphology Table:\")\n",
    "display_table(morphology_table)\n"
   ]
  },
  {
   "cell_type": "code",
   "execution_count": 1,
   "id": "12fb2436-24dd-449e-8981-8a510cd8d296",
   "metadata": {},
   "outputs": [],
   "source": [
    "morphology_table = [\n",
    "    {'Word': 'play', 'Form': 'playing', 'Tense': 'present continuous'},\n",
    "    {'Word': 'run', 'Form': 'running', 'Tense': 'present continuous'},\n",
    "    {'Word': 'drive', 'Form': 'driven', 'Tense': 'past participle'}\n",
    "]"
   ]
  },
  {
   "cell_type": "code",
   "execution_count": 6,
   "id": "7ba75462-3ca6-42c6-8556-cc4b0fa8a16e",
   "metadata": {},
   "outputs": [],
   "source": [
    "def display_table(table):\n",
    "    print(f\"{'Word':<12}{'Form':<10}{'Tense'}\")\n",
    "    for i in table:\n",
    "        print(f\"{i['Word']:<12}{i['Form']:<10}{i['Tense']}\")"
   ]
  },
  {
   "cell_type": "code",
   "execution_count": 5,
   "id": "b82fd223-29e3-4ae3-9ffe-a056d8da0c96",
   "metadata": {},
   "outputs": [
    {
     "name": "stdout",
     "output_type": "stream",
     "text": [
      "Word           Form      Tense\n",
      "play           playing   present continuous\n",
      "run            running   present continuous\n",
      "drive          driven    past participle\n"
     ]
    }
   ],
   "source": [
    "display_table(morphology_table)"
   ]
  },
  {
   "cell_type": "code",
   "execution_count": 7,
   "id": "4b580066-1f64-45ae-9733-5b2bc3877cfb",
   "metadata": {},
   "outputs": [],
   "source": [
    "def add(table,word,Form,Tense):\n",
    "    table.append({'Word':word,'Form':Form,'Tense':Tense})"
   ]
  },
  {
   "cell_type": "code",
   "execution_count": null,
   "id": "169608a0-d596-43e3-a462-c20bd09ecbee",
   "metadata": {},
   "outputs": [],
   "source": []
  }
 ],
 "metadata": {
  "kernelspec": {
   "display_name": "Python 3 (ipykernel)",
   "language": "python",
   "name": "python3"
  },
  "language_info": {
   "codemirror_mode": {
    "name": "ipython",
    "version": 3
   },
   "file_extension": ".py",
   "mimetype": "text/x-python",
   "name": "python",
   "nbconvert_exporter": "python",
   "pygments_lexer": "ipython3",
   "version": "3.11.7"
  }
 },
 "nbformat": 4,
 "nbformat_minor": 5
}
